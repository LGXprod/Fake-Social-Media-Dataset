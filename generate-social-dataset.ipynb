{
 "cells": [
  {
   "cell_type": "code",
   "execution_count": null,
   "metadata": {},
   "outputs": [],
   "source": [
    "from datetime import datetime\n",
    "from faker import Faker\n",
    "import pandas as pd\n",
    "from tqdm.notebook import tqdm"
   ]
  },
  {
   "cell_type": "code",
   "execution_count": null,
   "metadata": {},
   "outputs": [],
   "source": [
    "social_media_users_df = pd.read_csv(\"./genres/genres.csv\")"
   ]
  },
  {
   "cell_type": "code",
   "execution_count": null,
   "metadata": {},
   "outputs": [],
   "source": [
    "genres = set()\n",
    "\n",
    "for _, row in tqdm(social_media_users_df[[\"Interests\"]].iterrows(), total=len(social_media_users_df)):\n",
    "    for genre in row[\"Interests\"].replace(\"'\", \"\").split(\",\"):\n",
    "        genre = genre.strip()\n",
    "        genres.add(genre)"
   ]
  },
  {
   "cell_type": "code",
   "execution_count": null,
   "metadata": {},
   "outputs": [],
   "source": [
    "fake = Faker()"
   ]
  },
  {
   "cell_type": "code",
   "execution_count": null,
   "metadata": {},
   "outputs": [],
   "source": [
    "def create_fake_person():\n",
    "    birth_date = fake.date_of_birth()\n",
    "    age = datetime.date(datetime.now()).year - birth_date.year\n",
    "    \n",
    "    bot_score = fake.pyfloat(left_digits=0, right_digits=2, positive=True, min_value=None, max_value=None)\n",
    "  \n",
    "    _, _, city, country, state = fake.local_latlng(country_code=\"US\")\n",
    "    state = state.split(\"/\")[-1].replace(\"_\", \" \")\n",
    "    location = \" \".join([city, state, country])\n",
    "  \n",
    "    return [fake.uuid4(), fake.first_name(), fake.last_name(), birth_date.strftime(\"%Y-%m-%d\"), age, location, fake.random_element(genres), bot_score]"
   ]
  },
  {
   "cell_type": "code",
   "execution_count": null,
   "metadata": {},
   "outputs": [],
   "source": [
    "people = [create_fake_person() for _ in range(1000)]"
   ]
  },
  {
   "cell_type": "code",
   "execution_count": null,
   "metadata": {},
   "outputs": [],
   "source": [
    "def create_fake_poster():\n",
    "    birth_date = fake.date_of_birth()\n",
    "    age = datetime.date(datetime.now()).year - birth_date.year\n",
    "    \n",
    "    return [fake.uuid4(), fake.user_name(), age, \";\".join([fake.random_element(genres) for _ in range(fake.random_int(min=1, max=5))])]"
   ]
  },
  {
   "cell_type": "code",
   "execution_count": null,
   "metadata": {},
   "outputs": [],
   "source": [
    "posters = [create_fake_poster() for _ in range(200)]"
   ]
  },
  {
   "cell_type": "code",
   "execution_count": null,
   "metadata": {},
   "outputs": [],
   "source": [
    "followers = []\n",
    "\n",
    "for person in people:\n",
    "    followers.extend([[person[0], fake.random_element(people)[0]] for _ in range(fake.random_int(min=2, max=10))])"
   ]
  },
  {
   "cell_type": "code",
   "execution_count": null,
   "metadata": {},
   "outputs": [],
   "source": [
    "subscribers = []\n",
    "\n",
    "for person in people:\n",
    "    subscribers.extend([[person[0], fake.random_element(posters)[0]] for _ in range(fake.random_int(min=2, max=10))])"
   ]
  },
  {
   "cell_type": "code",
   "execution_count": null,
   "metadata": {},
   "outputs": [],
   "source": [
    "people_df = pd.DataFrame(people, columns=[\"personId:ID(Person-ID)\", \"first_name\", \"last_name\", \"birth_date:date\", \"age:int\", \"location\", \"genre\", \"bot_score:float\"])\n",
    "people_df[\":LABEL\"] = \"person\"\n",
    "people_df.head()"
   ]
  },
  {
   "cell_type": "code",
   "execution_count": null,
   "metadata": {},
   "outputs": [],
   "source": [
    "posters_df = pd.DataFrame(posters, columns=[\"posterId:ID(Poster-ID)\", \"username\", \"age:int\", \"genres:string[]\"])\n",
    "posters_df[\":LABEL\"] = \"poster\"\n",
    "posters_df.head()"
   ]
  },
  {
   "cell_type": "code",
   "execution_count": null,
   "metadata": {},
   "outputs": [],
   "source": [
    "followers_df = pd.DataFrame(followers, columns=[\"personId:START_ID(Person-ID)\", \"personId:END_ID(Person-ID)\"])\n",
    "followers_df[\":TYPE\"] = \"follows\"\n",
    "followers_df.head()"
   ]
  },
  {
   "cell_type": "code",
   "execution_count": null,
   "metadata": {},
   "outputs": [],
   "source": [
    "subscribers_df = pd.DataFrame(subscribers, columns=[\"personId:START_ID(Person-ID)\", \"posterId:END_ID(Poster-ID)\"])\n",
    "subscribers_df[\":TYPE\"] = \"subscribes_to\"\n",
    "subscribers_df.head()"
   ]
  },
  {
   "cell_type": "code",
   "execution_count": null,
   "metadata": {},
   "outputs": [],
   "source": [
    "people_df.to_csv(\"./fake-social-media-data/people.csv\", index=False)\n",
    "posters_df.to_csv(\"./fake-social-media-data/posters.csv\", index=False)\n",
    "followers_df.to_csv(\"./fake-social-media-data/followers.csv\", index=False)\n",
    "subscribers_df.to_csv(\"./fake-social-media-data/subscribers.csv\", index=False)"
   ]
  }
 ],
 "metadata": {
  "kernelspec": {
   "display_name": "py3113",
   "language": "python",
   "name": "python3"
  },
  "language_info": {
   "codemirror_mode": {
    "name": "ipython",
    "version": 3
   },
   "file_extension": ".py",
   "mimetype": "text/x-python",
   "name": "python",
   "nbconvert_exporter": "python",
   "pygments_lexer": "ipython3",
   "version": "3.11.3"
  }
 },
 "nbformat": 4,
 "nbformat_minor": 2
}
