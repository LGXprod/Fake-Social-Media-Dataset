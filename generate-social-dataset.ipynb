{
 "cells": [
  {
   "cell_type": "code",
   "execution_count": 16,
   "metadata": {},
   "outputs": [],
   "source": [
    "from datetime import datetime\n",
    "from faker import Faker\n",
    "import pandas as pd\n",
    "from tqdm.notebook import tqdm"
   ]
  },
  {
   "cell_type": "code",
   "execution_count": 17,
   "metadata": {},
   "outputs": [],
   "source": [
    "social_media_users_df = pd.read_csv(\"./genres/genres.csv\")"
   ]
  },
  {
   "cell_type": "code",
   "execution_count": 18,
   "metadata": {},
   "outputs": [
    {
     "data": {
      "application/vnd.jupyter.widget-view+json": {
       "model_id": "da615c3efd7b4de594e46f632ee85d8c",
       "version_major": 2,
       "version_minor": 0
      },
      "text/plain": [
       "  0%|          | 0/100000 [00:00<?, ?it/s]"
      ]
     },
     "metadata": {},
     "output_type": "display_data"
    }
   ],
   "source": [
    "genres = set()\n",
    "\n",
    "for _, row in tqdm(social_media_users_df[[\"Interests\"]].iterrows(), total=len(social_media_users_df)):\n",
    "    for genre in row[\"Interests\"].replace(\"'\", \"\").split(\",\"):\n",
    "        genre = genre.strip()\n",
    "        genres.add(genre)"
   ]
  },
  {
   "cell_type": "code",
   "execution_count": 19,
   "metadata": {},
   "outputs": [],
   "source": [
    "fake = Faker()"
   ]
  },
  {
   "cell_type": "code",
   "execution_count": 20,
   "metadata": {},
   "outputs": [],
   "source": [
    "def create_fake_person():\n",
    "    birth_date = fake.date_of_birth()\n",
    "    age = datetime.date(datetime.now()).year - birth_date.year\n",
    "    \n",
    "    bot_score = fake.pyfloat(left_digits=0, right_digits=2, positive=True, min_value=None, max_value=None)\n",
    "  \n",
    "    _, _, city, country, state = fake.local_latlng(country_code=\"US\")\n",
    "    state = state.split(\"/\")[-1].replace(\"_\", \" \")\n",
    "    location = \" \".join([city, state, country])\n",
    "  \n",
    "    return [fake.uuid4(), fake.first_name(), fake.last_name(), birth_date.strftime(\"%Y-%m-%d\"), age, location, fake.random_element(genres), bot_score]"
   ]
  },
  {
   "cell_type": "code",
   "execution_count": 21,
   "metadata": {},
   "outputs": [],
   "source": [
    "people = [create_fake_person() for _ in range(1000)]"
   ]
  },
  {
   "cell_type": "code",
   "execution_count": 22,
   "metadata": {},
   "outputs": [],
   "source": [
    "def create_fake_poster():\n",
    "    birth_date = fake.date_of_birth()\n",
    "    age = datetime.date(datetime.now()).year - birth_date.year\n",
    "    \n",
    "    return [fake.uuid4(), fake.user_name(), age, \";\".join([fake.random_element(genres) for _ in range(fake.random_int(min=1, max=5))])]"
   ]
  },
  {
   "cell_type": "code",
   "execution_count": 23,
   "metadata": {},
   "outputs": [],
   "source": [
    "posters = [create_fake_poster() for _ in range(200)]"
   ]
  },
  {
   "cell_type": "code",
   "execution_count": 24,
   "metadata": {},
   "outputs": [],
   "source": [
    "followers = []\n",
    "\n",
    "for person in people:\n",
    "    followers.extend([[person[0], fake.random_element(people)[0]] for _ in range(fake.random_int(min=2, max=10))])"
   ]
  },
  {
   "cell_type": "code",
   "execution_count": 25,
   "metadata": {},
   "outputs": [],
   "source": [
    "subscribers = []\n",
    "\n",
    "for person in people:\n",
    "    subscribers.extend([[person[0], fake.random_element(posters)[0]] for _ in range(fake.random_int(min=2, max=10))])"
   ]
  },
  {
   "cell_type": "code",
   "execution_count": 26,
   "metadata": {},
   "outputs": [
    {
     "data": {
      "text/html": [
       "<div>\n",
       "<style scoped>\n",
       "    .dataframe tbody tr th:only-of-type {\n",
       "        vertical-align: middle;\n",
       "    }\n",
       "\n",
       "    .dataframe tbody tr th {\n",
       "        vertical-align: top;\n",
       "    }\n",
       "\n",
       "    .dataframe thead th {\n",
       "        text-align: right;\n",
       "    }\n",
       "</style>\n",
       "<table border=\"1\" class=\"dataframe\">\n",
       "  <thead>\n",
       "    <tr style=\"text-align: right;\">\n",
       "      <th></th>\n",
       "      <th>personId:ID(Person-ID)</th>\n",
       "      <th>first_name</th>\n",
       "      <th>last_name</th>\n",
       "      <th>birth_date:date</th>\n",
       "      <th>age:int</th>\n",
       "      <th>location</th>\n",
       "      <th>genre</th>\n",
       "      <th>bot_score:float</th>\n",
       "      <th>:LABEL</th>\n",
       "    </tr>\n",
       "  </thead>\n",
       "  <tbody>\n",
       "    <tr>\n",
       "      <th>0</th>\n",
       "      <td>4c419279-d0d6-4290-9563-b42db18dbe9b</td>\n",
       "      <td>Mark</td>\n",
       "      <td>Fields</td>\n",
       "      <td>1981-11-05</td>\n",
       "      <td>43</td>\n",
       "      <td>Brentwood Estates Chicago US</td>\n",
       "      <td>Music</td>\n",
       "      <td>0.12</td>\n",
       "      <td>person</td>\n",
       "    </tr>\n",
       "    <tr>\n",
       "      <th>1</th>\n",
       "      <td>a7d0de70-bd31-45df-8df5-189966f1fe2e</td>\n",
       "      <td>Christine</td>\n",
       "      <td>Murphy</td>\n",
       "      <td>2005-03-12</td>\n",
       "      <td>19</td>\n",
       "      <td>Kensington New York US</td>\n",
       "      <td>Technology</td>\n",
       "      <td>0.77</td>\n",
       "      <td>person</td>\n",
       "    </tr>\n",
       "    <tr>\n",
       "      <th>2</th>\n",
       "      <td>62b2066b-5fbb-44b3-8899-0aa44f528ff8</td>\n",
       "      <td>Theresa</td>\n",
       "      <td>Frye</td>\n",
       "      <td>2012-02-21</td>\n",
       "      <td>12</td>\n",
       "      <td>Keene New York US</td>\n",
       "      <td>Technology</td>\n",
       "      <td>0.76</td>\n",
       "      <td>person</td>\n",
       "    </tr>\n",
       "    <tr>\n",
       "      <th>3</th>\n",
       "      <td>9bef669c-7e66-4d86-bb82-ad3be9ac7c31</td>\n",
       "      <td>Jennifer</td>\n",
       "      <td>Rice</td>\n",
       "      <td>2007-03-27</td>\n",
       "      <td>17</td>\n",
       "      <td>Murray Chicago US</td>\n",
       "      <td>Business and entrepreneurship</td>\n",
       "      <td>0.27</td>\n",
       "      <td>person</td>\n",
       "    </tr>\n",
       "    <tr>\n",
       "      <th>4</th>\n",
       "      <td>e2aed787-255e-463b-a4a0-b1944ee8c706</td>\n",
       "      <td>Sarah</td>\n",
       "      <td>Anderson</td>\n",
       "      <td>1925-10-31</td>\n",
       "      <td>99</td>\n",
       "      <td>Palm Desert Los Angeles US</td>\n",
       "      <td>Photography</td>\n",
       "      <td>0.57</td>\n",
       "      <td>person</td>\n",
       "    </tr>\n",
       "  </tbody>\n",
       "</table>\n",
       "</div>"
      ],
      "text/plain": [
       "                 personId:ID(Person-ID) first_name last_name birth_date:date  \\\n",
       "0  4c419279-d0d6-4290-9563-b42db18dbe9b       Mark    Fields      1981-11-05   \n",
       "1  a7d0de70-bd31-45df-8df5-189966f1fe2e  Christine    Murphy      2005-03-12   \n",
       "2  62b2066b-5fbb-44b3-8899-0aa44f528ff8    Theresa      Frye      2012-02-21   \n",
       "3  9bef669c-7e66-4d86-bb82-ad3be9ac7c31   Jennifer      Rice      2007-03-27   \n",
       "4  e2aed787-255e-463b-a4a0-b1944ee8c706      Sarah  Anderson      1925-10-31   \n",
       "\n",
       "   age:int                      location                          genre  \\\n",
       "0       43  Brentwood Estates Chicago US                          Music   \n",
       "1       19        Kensington New York US                     Technology   \n",
       "2       12             Keene New York US                     Technology   \n",
       "3       17             Murray Chicago US  Business and entrepreneurship   \n",
       "4       99    Palm Desert Los Angeles US                    Photography   \n",
       "\n",
       "   bot_score:float  :LABEL  \n",
       "0             0.12  person  \n",
       "1             0.77  person  \n",
       "2             0.76  person  \n",
       "3             0.27  person  \n",
       "4             0.57  person  "
      ]
     },
     "execution_count": 26,
     "metadata": {},
     "output_type": "execute_result"
    }
   ],
   "source": [
    "people_df = pd.DataFrame(people, columns=[\"personId:ID(Person-ID)\", \"first_name\", \"last_name\", \"birth_date:date\", \"age:int\", \"location\", \"genre\", \"bot_score:float\"])\n",
    "people_df[\":LABEL\"] = \"person\"\n",
    "people_df.head()"
   ]
  },
  {
   "cell_type": "code",
   "execution_count": 27,
   "metadata": {},
   "outputs": [
    {
     "data": {
      "text/html": [
       "<div>\n",
       "<style scoped>\n",
       "    .dataframe tbody tr th:only-of-type {\n",
       "        vertical-align: middle;\n",
       "    }\n",
       "\n",
       "    .dataframe tbody tr th {\n",
       "        vertical-align: top;\n",
       "    }\n",
       "\n",
       "    .dataframe thead th {\n",
       "        text-align: right;\n",
       "    }\n",
       "</style>\n",
       "<table border=\"1\" class=\"dataframe\">\n",
       "  <thead>\n",
       "    <tr style=\"text-align: right;\">\n",
       "      <th></th>\n",
       "      <th>posterId:ID(Poster-ID)</th>\n",
       "      <th>username</th>\n",
       "      <th>age:int</th>\n",
       "      <th>genres:string[]</th>\n",
       "      <th>:LABEL</th>\n",
       "    </tr>\n",
       "  </thead>\n",
       "  <tbody>\n",
       "    <tr>\n",
       "      <th>0</th>\n",
       "      <td>425e1eb3-8805-49ab-bfef-152d91488e9e</td>\n",
       "      <td>wlowe</td>\n",
       "      <td>74</td>\n",
       "      <td>Cars and automobiles;Pets;Finance and investme...</td>\n",
       "      <td>poster</td>\n",
       "    </tr>\n",
       "    <tr>\n",
       "      <th>1</th>\n",
       "      <td>b17c5a97-fce9-4d76-b5b9-d8a3bcccef13</td>\n",
       "      <td>bmccoy</td>\n",
       "      <td>109</td>\n",
       "      <td>Politics;DIY and crafts</td>\n",
       "      <td>poster</td>\n",
       "    </tr>\n",
       "    <tr>\n",
       "      <th>2</th>\n",
       "      <td>4644c19b-254d-4024-a1ef-0fa9dc4c53a1</td>\n",
       "      <td>hollywalker</td>\n",
       "      <td>88</td>\n",
       "      <td>Travel;History;Travel;Cooking</td>\n",
       "      <td>poster</td>\n",
       "    </tr>\n",
       "    <tr>\n",
       "      <th>3</th>\n",
       "      <td>99974735-183f-4a87-83c2-793915cf3ab0</td>\n",
       "      <td>deborah95</td>\n",
       "      <td>108</td>\n",
       "      <td>Gaming</td>\n",
       "      <td>poster</td>\n",
       "    </tr>\n",
       "    <tr>\n",
       "      <th>4</th>\n",
       "      <td>b5f18a49-8ac0-41af-a678-bfabf85025ad</td>\n",
       "      <td>kcampbell</td>\n",
       "      <td>7</td>\n",
       "      <td>Business and entrepreneurship;Cars and automob...</td>\n",
       "      <td>poster</td>\n",
       "    </tr>\n",
       "  </tbody>\n",
       "</table>\n",
       "</div>"
      ],
      "text/plain": [
       "                 posterId:ID(Poster-ID)     username  age:int  \\\n",
       "0  425e1eb3-8805-49ab-bfef-152d91488e9e        wlowe       74   \n",
       "1  b17c5a97-fce9-4d76-b5b9-d8a3bcccef13       bmccoy      109   \n",
       "2  4644c19b-254d-4024-a1ef-0fa9dc4c53a1  hollywalker       88   \n",
       "3  99974735-183f-4a87-83c2-793915cf3ab0    deborah95      108   \n",
       "4  b5f18a49-8ac0-41af-a678-bfabf85025ad    kcampbell        7   \n",
       "\n",
       "                                     genres:string[]  :LABEL  \n",
       "0  Cars and automobiles;Pets;Finance and investme...  poster  \n",
       "1                            Politics;DIY and crafts  poster  \n",
       "2                      Travel;History;Travel;Cooking  poster  \n",
       "3                                             Gaming  poster  \n",
       "4  Business and entrepreneurship;Cars and automob...  poster  "
      ]
     },
     "execution_count": 27,
     "metadata": {},
     "output_type": "execute_result"
    }
   ],
   "source": [
    "posters_df = pd.DataFrame(posters, columns=[\"posterId:ID(Poster-ID)\", \"username\", \"age:int\", \"genres:string[]\"])\n",
    "posters_df[\":LABEL\"] = \"poster\"\n",
    "posters_df.head()"
   ]
  },
  {
   "cell_type": "code",
   "execution_count": 28,
   "metadata": {},
   "outputs": [
    {
     "data": {
      "text/html": [
       "<div>\n",
       "<style scoped>\n",
       "    .dataframe tbody tr th:only-of-type {\n",
       "        vertical-align: middle;\n",
       "    }\n",
       "\n",
       "    .dataframe tbody tr th {\n",
       "        vertical-align: top;\n",
       "    }\n",
       "\n",
       "    .dataframe thead th {\n",
       "        text-align: right;\n",
       "    }\n",
       "</style>\n",
       "<table border=\"1\" class=\"dataframe\">\n",
       "  <thead>\n",
       "    <tr style=\"text-align: right;\">\n",
       "      <th></th>\n",
       "      <th>personId:START_ID(Person-ID)</th>\n",
       "      <th>personId:END_ID(Person-ID)</th>\n",
       "      <th>:TYPE</th>\n",
       "    </tr>\n",
       "  </thead>\n",
       "  <tbody>\n",
       "    <tr>\n",
       "      <th>0</th>\n",
       "      <td>4c419279-d0d6-4290-9563-b42db18dbe9b</td>\n",
       "      <td>aa147d2e-dae2-4818-a250-ce29120b300e</td>\n",
       "      <td>follows</td>\n",
       "    </tr>\n",
       "    <tr>\n",
       "      <th>1</th>\n",
       "      <td>4c419279-d0d6-4290-9563-b42db18dbe9b</td>\n",
       "      <td>d59e676a-4e09-4531-a8a7-51d4c0fb7822</td>\n",
       "      <td>follows</td>\n",
       "    </tr>\n",
       "    <tr>\n",
       "      <th>2</th>\n",
       "      <td>4c419279-d0d6-4290-9563-b42db18dbe9b</td>\n",
       "      <td>00e32a49-782a-486a-8a73-2d39059a33a0</td>\n",
       "      <td>follows</td>\n",
       "    </tr>\n",
       "    <tr>\n",
       "      <th>3</th>\n",
       "      <td>4c419279-d0d6-4290-9563-b42db18dbe9b</td>\n",
       "      <td>028229be-e884-4e9e-87c9-aeea00a7ce9b</td>\n",
       "      <td>follows</td>\n",
       "    </tr>\n",
       "    <tr>\n",
       "      <th>4</th>\n",
       "      <td>4c419279-d0d6-4290-9563-b42db18dbe9b</td>\n",
       "      <td>90d08060-d006-4060-9ac4-9b8074c5a02f</td>\n",
       "      <td>follows</td>\n",
       "    </tr>\n",
       "  </tbody>\n",
       "</table>\n",
       "</div>"
      ],
      "text/plain": [
       "           personId:START_ID(Person-ID)            personId:END_ID(Person-ID)  \\\n",
       "0  4c419279-d0d6-4290-9563-b42db18dbe9b  aa147d2e-dae2-4818-a250-ce29120b300e   \n",
       "1  4c419279-d0d6-4290-9563-b42db18dbe9b  d59e676a-4e09-4531-a8a7-51d4c0fb7822   \n",
       "2  4c419279-d0d6-4290-9563-b42db18dbe9b  00e32a49-782a-486a-8a73-2d39059a33a0   \n",
       "3  4c419279-d0d6-4290-9563-b42db18dbe9b  028229be-e884-4e9e-87c9-aeea00a7ce9b   \n",
       "4  4c419279-d0d6-4290-9563-b42db18dbe9b  90d08060-d006-4060-9ac4-9b8074c5a02f   \n",
       "\n",
       "     :TYPE  \n",
       "0  follows  \n",
       "1  follows  \n",
       "2  follows  \n",
       "3  follows  \n",
       "4  follows  "
      ]
     },
     "execution_count": 28,
     "metadata": {},
     "output_type": "execute_result"
    }
   ],
   "source": [
    "followers_df = pd.DataFrame(followers, columns=[\"personId:START_ID(Person-ID)\", \"personId:END_ID(Person-ID)\"])\n",
    "followers_df[\":TYPE\"] = \"follows\"\n",
    "followers_df.head()"
   ]
  },
  {
   "cell_type": "code",
   "execution_count": 29,
   "metadata": {},
   "outputs": [
    {
     "data": {
      "text/html": [
       "<div>\n",
       "<style scoped>\n",
       "    .dataframe tbody tr th:only-of-type {\n",
       "        vertical-align: middle;\n",
       "    }\n",
       "\n",
       "    .dataframe tbody tr th {\n",
       "        vertical-align: top;\n",
       "    }\n",
       "\n",
       "    .dataframe thead th {\n",
       "        text-align: right;\n",
       "    }\n",
       "</style>\n",
       "<table border=\"1\" class=\"dataframe\">\n",
       "  <thead>\n",
       "    <tr style=\"text-align: right;\">\n",
       "      <th></th>\n",
       "      <th>personId:START_ID(Person-ID)</th>\n",
       "      <th>posterId:END_ID(Poster-ID)</th>\n",
       "      <th>:TYPE</th>\n",
       "    </tr>\n",
       "  </thead>\n",
       "  <tbody>\n",
       "    <tr>\n",
       "      <th>0</th>\n",
       "      <td>4c419279-d0d6-4290-9563-b42db18dbe9b</td>\n",
       "      <td>32b71e1c-15ca-4a24-9005-8162a3bd2154</td>\n",
       "      <td>subscribes_to</td>\n",
       "    </tr>\n",
       "    <tr>\n",
       "      <th>1</th>\n",
       "      <td>4c419279-d0d6-4290-9563-b42db18dbe9b</td>\n",
       "      <td>83e5ce32-9637-4b15-8565-8e22465209fc</td>\n",
       "      <td>subscribes_to</td>\n",
       "    </tr>\n",
       "    <tr>\n",
       "      <th>2</th>\n",
       "      <td>4c419279-d0d6-4290-9563-b42db18dbe9b</td>\n",
       "      <td>f48d8d5b-5a4b-4aff-8d52-f5f1e7517ba4</td>\n",
       "      <td>subscribes_to</td>\n",
       "    </tr>\n",
       "    <tr>\n",
       "      <th>3</th>\n",
       "      <td>a7d0de70-bd31-45df-8df5-189966f1fe2e</td>\n",
       "      <td>77e95c60-3fb8-4214-b636-930f2f589339</td>\n",
       "      <td>subscribes_to</td>\n",
       "    </tr>\n",
       "    <tr>\n",
       "      <th>4</th>\n",
       "      <td>a7d0de70-bd31-45df-8df5-189966f1fe2e</td>\n",
       "      <td>9de005e4-0426-4f48-a248-722a6d9ca84c</td>\n",
       "      <td>subscribes_to</td>\n",
       "    </tr>\n",
       "  </tbody>\n",
       "</table>\n",
       "</div>"
      ],
      "text/plain": [
       "           personId:START_ID(Person-ID)            posterId:END_ID(Poster-ID)  \\\n",
       "0  4c419279-d0d6-4290-9563-b42db18dbe9b  32b71e1c-15ca-4a24-9005-8162a3bd2154   \n",
       "1  4c419279-d0d6-4290-9563-b42db18dbe9b  83e5ce32-9637-4b15-8565-8e22465209fc   \n",
       "2  4c419279-d0d6-4290-9563-b42db18dbe9b  f48d8d5b-5a4b-4aff-8d52-f5f1e7517ba4   \n",
       "3  a7d0de70-bd31-45df-8df5-189966f1fe2e  77e95c60-3fb8-4214-b636-930f2f589339   \n",
       "4  a7d0de70-bd31-45df-8df5-189966f1fe2e  9de005e4-0426-4f48-a248-722a6d9ca84c   \n",
       "\n",
       "           :TYPE  \n",
       "0  subscribes_to  \n",
       "1  subscribes_to  \n",
       "2  subscribes_to  \n",
       "3  subscribes_to  \n",
       "4  subscribes_to  "
      ]
     },
     "execution_count": 29,
     "metadata": {},
     "output_type": "execute_result"
    }
   ],
   "source": [
    "subscribers_df = pd.DataFrame(subscribers, columns=[\"personId:START_ID(Person-ID)\", \"posterId:END_ID(Poster-ID)\"])\n",
    "subscribers_df[\":TYPE\"] = \"subscribes_to\"\n",
    "subscribers_df.head()"
   ]
  },
  {
   "cell_type": "code",
   "execution_count": 30,
   "metadata": {},
   "outputs": [],
   "source": [
    "people_df.to_csv(\"./fake-social-media-data/nodes/people.csv\", index=False)\n",
    "posters_df.to_csv(\"./fake-social-media-data/nodes/posters.csv\", index=False)\n",
    "followers_df.to_csv(\"./fake-social-media-data/edges/follows.csv\", index=False)\n",
    "subscribers_df.to_csv(\"./fake-social-media-data/edges/subscribes.csv\", index=False)"
   ]
  }
 ],
 "metadata": {
  "kernelspec": {
   "display_name": "py3113",
   "language": "python",
   "name": "python3"
  },
  "language_info": {
   "codemirror_mode": {
    "name": "ipython",
    "version": 3
   },
   "file_extension": ".py",
   "mimetype": "text/x-python",
   "name": "python",
   "nbconvert_exporter": "python",
   "pygments_lexer": "ipython3",
   "version": "3.11.3"
  }
 },
 "nbformat": 4,
 "nbformat_minor": 2
}
